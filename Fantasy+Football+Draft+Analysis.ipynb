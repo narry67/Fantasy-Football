{
 "cells": [
  {
   "cell_type": "markdown",
   "metadata": {},
   "source": [
    "# Fantasy Football ADP Draft Position Sequence Analysis\n"
   ]
  },
  {
   "cell_type": "markdown",
   "metadata": {},
   "source": [
    "### Introduction"
   ]
  },
  {
   "cell_type": "markdown",
   "metadata": {},
   "source": [
    "This project is inspired by my passion for fantasy football (FF). For those who are unfamiliar, I'll offer a brief introduction. At the beginning of every season, about 10-12 people (we will call them owners) draft a 'fantasy team' comprised of players from different real teams in the National Football League (NFL). Whenever an owner's player contributes to his team in the real world, the owner earns fantasy points. For example, fantasy points are commonly awarded for a player's touchdowns or yards. Each week two fantasy players compete, and whoever's team scores the most wins. While there is further complexity, this is a sufficient summary. \n",
    "\n",
    "The purpose of this project is to help a FF player prepare to draft his/her team at the beginning of the season. There is much debate in the FF world about which position should be drafted first, second, etc. Some people prefer to draft WRs early while others Draft RBs early while others draft a QB or TE early. The perfect strategy changes year to year as each offers a different slate of players to pick. Therefore, this workbook analyzes the strategy that performed the best over the past five years.\n",
    "\n",
    "Lastly, the world of FF is often dominated by the opinions of a few 'analysts' (some undserving of the title) that largely influence public opinion. There is little objective analysis out there. Most people just follow the analysts conjecture or a buddy. These analysts often provide meagre explanation of their opinions, and so there appears to be strong need for further analytical pursuit in this domain."
   ]
  },
  {
   "cell_type": "code",
   "execution_count": 63,
   "metadata": {},
   "outputs": [
    {
     "name": "stdout",
     "output_type": "stream",
     "text": [
      "# of permutations\n",
      "5040\n"
     ]
    },
    {
     "data": {
      "text/html": [
       "<div>\n",
       "<style scoped>\n",
       "    .dataframe tbody tr th:only-of-type {\n",
       "        vertical-align: middle;\n",
       "    }\n",
       "\n",
       "    .dataframe tbody tr th {\n",
       "        vertical-align: top;\n",
       "    }\n",
       "\n",
       "    .dataframe thead th {\n",
       "        text-align: right;\n",
       "    }\n",
       "</style>\n",
       "<table border=\"1\" class=\"dataframe\">\n",
       "  <thead>\n",
       "    <tr style=\"text-align: right;\">\n",
       "      <th></th>\n",
       "      <th>Rank</th>\n",
       "      <th>Player</th>\n",
       "      <th>Team</th>\n",
       "      <th>Bye</th>\n",
       "      <th>POS</th>\n",
       "      <th>ESPN</th>\n",
       "      <th>RTSports</th>\n",
       "      <th>MFL</th>\n",
       "      <th>Fantrax</th>\n",
       "      <th>FFC</th>\n",
       "      <th>Sleeper</th>\n",
       "      <th>AVG</th>\n",
       "    </tr>\n",
       "  </thead>\n",
       "  <tbody>\n",
       "    <tr>\n",
       "      <th>0</th>\n",
       "      <td>1.0</td>\n",
       "      <td>Todd Gurley II</td>\n",
       "      <td>NaN</td>\n",
       "      <td>NaN</td>\n",
       "      <td>RB1</td>\n",
       "      <td>1.0</td>\n",
       "      <td>1.0</td>\n",
       "      <td>1.0</td>\n",
       "      <td>1.0</td>\n",
       "      <td>1.0</td>\n",
       "      <td>NaN</td>\n",
       "      <td>1.0</td>\n",
       "    </tr>\n",
       "    <tr>\n",
       "      <th>1</th>\n",
       "      <td>2.0</td>\n",
       "      <td>Le'Veon Bell</td>\n",
       "      <td>NaN</td>\n",
       "      <td>NaN</td>\n",
       "      <td>RB2</td>\n",
       "      <td>2.0</td>\n",
       "      <td>3.0</td>\n",
       "      <td>2.0</td>\n",
       "      <td>2.0</td>\n",
       "      <td>3.0</td>\n",
       "      <td>NaN</td>\n",
       "      <td>2.4</td>\n",
       "    </tr>\n",
       "    <tr>\n",
       "      <th>2</th>\n",
       "      <td>3.0</td>\n",
       "      <td>David Johnson</td>\n",
       "      <td>NO</td>\n",
       "      <td>6</td>\n",
       "      <td>RB3</td>\n",
       "      <td>3.0</td>\n",
       "      <td>2.0</td>\n",
       "      <td>3.0</td>\n",
       "      <td>3.0</td>\n",
       "      <td>2.0</td>\n",
       "      <td>NaN</td>\n",
       "      <td>2.6</td>\n",
       "    </tr>\n",
       "    <tr>\n",
       "      <th>3</th>\n",
       "      <td>4.0</td>\n",
       "      <td>Ezekiel Elliott</td>\n",
       "      <td>DAL</td>\n",
       "      <td>8</td>\n",
       "      <td>RB4</td>\n",
       "      <td>4.0</td>\n",
       "      <td>4.0</td>\n",
       "      <td>4.0</td>\n",
       "      <td>4.0</td>\n",
       "      <td>4.0</td>\n",
       "      <td>NaN</td>\n",
       "      <td>4.0</td>\n",
       "    </tr>\n",
       "    <tr>\n",
       "      <th>4</th>\n",
       "      <td>5.0</td>\n",
       "      <td>Antonio Brown</td>\n",
       "      <td>NaN</td>\n",
       "      <td>NaN</td>\n",
       "      <td>WR1</td>\n",
       "      <td>5.0</td>\n",
       "      <td>6.0</td>\n",
       "      <td>5.0</td>\n",
       "      <td>5.0</td>\n",
       "      <td>5.0</td>\n",
       "      <td>NaN</td>\n",
       "      <td>5.2</td>\n",
       "    </tr>\n",
       "  </tbody>\n",
       "</table>\n",
       "</div>"
      ],
      "text/plain": [
       "   Rank           Player Team  Bye  POS  ESPN  RTSports  MFL  Fantrax  FFC  \\\n",
       "0   1.0   Todd Gurley II  NaN  NaN  RB1   1.0       1.0  1.0      1.0  1.0   \n",
       "1   2.0    Le'Veon Bell   NaN  NaN  RB2   2.0       3.0  2.0      2.0  3.0   \n",
       "2   3.0    David Johnson   NO    6  RB3   3.0       2.0  3.0      3.0  2.0   \n",
       "3   4.0  Ezekiel Elliott  DAL    8  RB4   4.0       4.0  4.0      4.0  4.0   \n",
       "4   5.0    Antonio Brown  NaN  NaN  WR1   5.0       6.0  5.0      5.0  5.0   \n",
       "\n",
       "   Sleeper  AVG  \n",
       "0      NaN  1.0  \n",
       "1      NaN  2.4  \n",
       "2      NaN  2.6  \n",
       "3      NaN  4.0  \n",
       "4      NaN  5.2  "
      ]
     },
     "execution_count": 63,
     "metadata": {},
     "output_type": "execute_result"
    }
   ],
   "source": [
    "import itertools\n",
    "import pandas as pd\n",
    "import matplotlib.pyplot as plt\n",
    "\n",
    "# This variable represents all possible draft position sequences\n",
    "positions = list(itertools.permutations(['RB','RB','WR','WR','TE','QB','FLEX']))\n",
    "print('# of permutations')\n",
    "print(len(positions))\n",
    "#Importing each player and his respective average draft position from a popular FF analytics site.\n",
    "ADP2018 = pd.read_csv(r'FantasyPros_2018_Overall_ADP_Rankings.csv')\n",
    "ADP2019 = pd.read_csv(r'FantasyPros_2019_Overall_ADP_Rankings.csv')\n",
    "ADP2020 = pd.read_csv(r'FantasyPros_2020_Overall_ADP_Rankings.csv')\n",
    "ADP2021 = pd.read_csv(r'FantasyPros_2021_Overall_ADP_Rankings.csv')\n",
    "ADP2022 = pd.read_csv(r'FantasyPros_2022_Overall_ADP_Rankings.csv')\n",
    "\n",
    "ADP2018.head()\n",
    "\n",
    "\n",
    "\n",
    "\n",
    "\n"
   ]
  },
  {
   "cell_type": "code",
   "execution_count": 64,
   "metadata": {},
   "outputs": [
    {
     "data": {
      "text/plain": [
       "0     Todd Gurley II\n",
       "1       Le'Veon Bell\n",
       "2      David Johnson\n",
       "3    Ezekiel Elliott\n",
       "4      Antonio Brown\n",
       "Name: Player, dtype: object"
      ]
     },
     "execution_count": 64,
     "metadata": {},
     "output_type": "execute_result"
    }
   ],
   "source": [
    "#remove erroneous spaces. I noticed the Player column had some when viewing its csv equivalent.\n",
    "ADP2018['Player'] = ADP2018['Player'].str.strip()\n",
    "ADP2019['Player'] = ADP2019['Player'].str.strip()\n",
    "ADP2020['Player'] = ADP2020['Player'].str.strip()\n",
    "ADP2021['Player'] = ADP2021['Player'].str.strip()\n",
    "ADP2022['Player'] = ADP2022['Player'].str.strip()\n",
    "ADP2018.Player.head()"
   ]
  },
  {
   "cell_type": "code",
   "execution_count": 65,
   "metadata": {},
   "outputs": [
    {
     "name": "stdout",
     "output_type": "stream",
     "text": [
      "number of duplicates 2018-2022\n",
      "2\n",
      "3\n",
      "2\n",
      "1\n",
      "1\n",
      "     Rank Player Team  Bye  POS  ESPN  RTSports  MFL  Fantrax  FFC  Sleeper  \\\n",
      "488   NaN    NaN  NaN  NaN  NaN   NaN       NaN  NaN      NaN  NaN      NaN   \n",
      "489   NaN    NaN  NaN  NaN  NaN   NaN       NaN  NaN      NaN  NaN      NaN   \n",
      "\n",
      "     AVG  \n",
      "488  NaN  \n",
      "489  NaN  \n",
      "       Rank        Player Team  Bye  POS   ESPN  RTSports  MFL  Fantrax  FFC  \\\n",
      "840   841.0  Ryan Griffin   TB    7   QB  727.0       NaN  NaN      NaN  NaN   \n",
      "1047    NaN           NaN  NaN  NaN  NaN    NaN       NaN  NaN      NaN  NaN   \n",
      "1048    NaN           NaN  NaN  NaN  NaN    NaN       NaN  NaN      NaN  NaN   \n",
      "\n",
      "      Sleeper    AVG  \n",
      "840       NaN  727.0  \n",
      "1047      NaN    NaN  \n",
      "1048      NaN    NaN  \n"
     ]
    },
    {
     "name": "stderr",
     "output_type": "stream",
     "text": [
      "<ipython-input-65-83f606685f94>:2: FutureWarning: The default value of regex will change from True to False in a future version.\n",
      "  ADP2018['POS'] = ADP2018['POS'].str.replace('\\d+', '')\n",
      "<ipython-input-65-83f606685f94>:3: FutureWarning: The default value of regex will change from True to False in a future version.\n",
      "  ADP2019['POS'] = ADP2019['POS'].str.replace('\\d+', '')\n",
      "<ipython-input-65-83f606685f94>:4: FutureWarning: The default value of regex will change from True to False in a future version.\n",
      "  ADP2020['POS'] = ADP2020['POS'].str.replace('\\d+', '')\n",
      "<ipython-input-65-83f606685f94>:5: FutureWarning: The default value of regex will change from True to False in a future version.\n",
      "  ADP2021['POS'] = ADP2021['POS'].str.replace('\\d+', '')\n",
      "<ipython-input-65-83f606685f94>:6: FutureWarning: The default value of regex will change from True to False in a future version.\n",
      "  ADP2022['POS'] = ADP2022['POS'].str.replace('\\d+', '')\n"
     ]
    }
   ],
   "source": [
    "#remove the digits in the position column\n",
    "ADP2018['POS'] = ADP2018['POS'].str.replace('\\d+', '')\n",
    "ADP2019['POS'] = ADP2019['POS'].str.replace('\\d+', '')\n",
    "ADP2020['POS'] = ADP2020['POS'].str.replace('\\d+', '')\n",
    "ADP2021['POS'] = ADP2021['POS'].str.replace('\\d+', '')\n",
    "ADP2022['POS'] = ADP2022['POS'].str.replace('\\d+', '')\n",
    "#check for duplicate values\n",
    "print('number of duplicates 2018-2022')\n",
    "print(ADP2018.Player.duplicated().sum())\n",
    "print(ADP2019.Player.duplicated().sum())\n",
    "print(ADP2020.Player.duplicated().sum())\n",
    "print(ADP2021.Player.duplicated().sum())\n",
    "print(ADP2022.Player.duplicated().sum())\n",
    "print(ADP2018[ADP2018.Player.duplicated()])\n",
    "print(ADP2019[ADP2019.Player.duplicated()])\n"
   ]
  },
  {
   "cell_type": "code",
   "execution_count": 66,
   "metadata": {},
   "outputs": [
    {
     "name": "stdout",
     "output_type": "stream",
     "text": [
      "**********player column************\n",
      "      Rank Player Team  Bye  POS  ESPN  RTSports  MFL  Fantrax  FFC  Sleeper  \\\n",
      "395  396.0    NaN  NaN  NaN        NaN       NaN  NaN    346.0  NaN      NaN   \n",
      "488    NaN    NaN  NaN  NaN  NaN   NaN       NaN  NaN      NaN  NaN      NaN   \n",
      "489    NaN    NaN  NaN  NaN  NaN   NaN       NaN  NaN      NaN  NaN      NaN   \n",
      "\n",
      "       AVG  \n",
      "395  346.0  \n",
      "488    NaN  \n",
      "489    NaN  \n",
      "       Rank Player Team  Bye  POS  ESPN  RTSports  MFL  Fantrax  FFC  Sleeper  \\\n",
      "417   418.0    NaN  NaN  NaN        NaN       NaN  NaN    320.0  NaN      NaN   \n",
      "1047    NaN    NaN  NaN  NaN  NaN   NaN       NaN  NaN      NaN  NaN      NaN   \n",
      "1048    NaN    NaN  NaN  NaN  NaN   NaN       NaN  NaN      NaN  NaN      NaN   \n",
      "\n",
      "        AVG  \n",
      "417   320.0  \n",
      "1047    NaN  \n",
      "1048    NaN  \n",
      "     Rank Player Team  Bye  POS  ESPN  RTSports  MFL  Fantrax  FFC  Sleeper  \\\n",
      "583   NaN    NaN  NaN  NaN  NaN   NaN       NaN  NaN      NaN  NaN      NaN   \n",
      "584   NaN    NaN  NaN  NaN  NaN   NaN       NaN  NaN      NaN  NaN      NaN   \n",
      "\n",
      "     AVG  \n",
      "583  NaN  \n",
      "584  NaN  \n",
      "**********average column************\n",
      "     Rank Player Team  Bye  POS  ESPN  RTSports  MFL  Fantrax  FFC  Sleeper  \\\n",
      "488   NaN    NaN  NaN  NaN  NaN   NaN       NaN  NaN      NaN  NaN      NaN   \n",
      "489   NaN    NaN  NaN  NaN  NaN   NaN       NaN  NaN      NaN  NaN      NaN   \n",
      "\n",
      "     AVG  \n",
      "488  NaN  \n",
      "489  NaN  \n",
      "      Rank Player Team  Bye  POS  ESPN  RTSports  MFL  Fantrax  FFC  Sleeper  \\\n",
      "1047   NaN    NaN  NaN  NaN  NaN   NaN       NaN  NaN      NaN  NaN      NaN   \n",
      "1048   NaN    NaN  NaN  NaN  NaN   NaN       NaN  NaN      NaN  NaN      NaN   \n",
      "\n",
      "      AVG  \n",
      "1047  NaN  \n",
      "1048  NaN  \n",
      "     Rank Player Team  Bye  POS  ESPN  RTSports  MFL  Fantrax  FFC  Sleeper  \\\n",
      "583   NaN    NaN  NaN  NaN  NaN   NaN       NaN  NaN      NaN  NaN      NaN   \n",
      "584   NaN    NaN  NaN  NaN  NaN   NaN       NaN  NaN      NaN  NaN      NaN   \n",
      "\n",
      "     AVG  \n",
      "583  NaN  \n",
      "584  NaN  \n",
      "**********position column************\n",
      "     Rank Player Team  Bye  POS  ESPN  RTSports  MFL  Fantrax  FFC  Sleeper  \\\n",
      "488   NaN    NaN  NaN  NaN  NaN   NaN       NaN  NaN      NaN  NaN      NaN   \n",
      "489   NaN    NaN  NaN  NaN  NaN   NaN       NaN  NaN      NaN  NaN      NaN   \n",
      "\n",
      "     AVG  \n",
      "488  NaN  \n",
      "489  NaN  \n",
      "      Rank Player Team  Bye  POS  ESPN  RTSports  MFL  Fantrax  FFC  Sleeper  \\\n",
      "1047   NaN    NaN  NaN  NaN  NaN   NaN       NaN  NaN      NaN  NaN      NaN   \n",
      "1048   NaN    NaN  NaN  NaN  NaN   NaN       NaN  NaN      NaN  NaN      NaN   \n",
      "\n",
      "      AVG  \n",
      "1047  NaN  \n",
      "1048  NaN  \n",
      "     Rank Player Team  Bye  POS  ESPN  RTSports  MFL  Fantrax  FFC  Sleeper  \\\n",
      "583   NaN    NaN  NaN  NaN  NaN   NaN       NaN  NaN      NaN  NaN      NaN   \n",
      "584   NaN    NaN  NaN  NaN  NaN   NaN       NaN  NaN      NaN  NaN      NaN   \n",
      "\n",
      "     AVG  \n",
      "583  NaN  \n",
      "584  NaN  \n"
     ]
    }
   ],
   "source": [
    "#checking for NULL values in the columns we will work with\n",
    "print('**********player column************')\n",
    "print(ADP2018[ADP2018.Player.isnull()])\n",
    "print(ADP2019[ADP2019.Player.isnull()])\n",
    "print(ADP2020[ADP2020.Player.isnull()])\n",
    "print('**********average column************')\n",
    "print(ADP2018[ADP2018.AVG.isnull()])\n",
    "print(ADP2019[ADP2019.AVG.isnull()])\n",
    "print(ADP2020[ADP2020.AVG.isnull()])\n",
    "print('**********position column************')\n",
    "print(ADP2018[ADP2018.POS.isnull()])\n",
    "print(ADP2019[ADP2019.POS.isnull()])\n",
    "print(ADP2020[ADP2020.POS.isnull()])\n",
    "\n"
   ]
  },
  {
   "cell_type": "code",
   "execution_count": 67,
   "metadata": {},
   "outputs": [
    {
     "name": "stdout",
     "output_type": "stream",
     "text": [
      "(490, 12)\n",
      "(1049, 12)\n",
      "(585, 12)\n",
      "(490, 12)\n",
      "(355, 12)\n",
      "***new shapes***\n",
      "(487, 12)\n",
      "(1046, 12)\n",
      "(583, 12)\n",
      "(488, 12)\n",
      "(353, 12)\n"
     ]
    }
   ],
   "source": [
    "#drop NULL values.\n",
    "print(ADP2018.shape,ADP2019.shape,ADP2020.shape,ADP2021.shape,ADP2022.shape,sep = '\\n')\n",
    "ADP2018 = ADP2018.dropna(subset=['Player', 'POS','AVG'])\n",
    "ADP2019 = ADP2019.dropna(subset=['Player', 'POS','AVG'])\n",
    "ADP2020 = ADP2020.dropna(subset=['Player', 'POS','AVG'])\n",
    "ADP2021 = ADP2021.dropna(subset=['Player', 'POS','AVG'])\n",
    "ADP2022 = ADP2022.dropna(subset=['Player', 'POS','AVG'])\n",
    "print('***new shapes***')\n",
    "print(ADP2018.shape,ADP2019.shape,ADP2020.shape,ADP2021.shape,ADP2022.shape,sep = '\\n')"
   ]
  },
  {
   "cell_type": "markdown",
   "metadata": {},
   "source": [
    "##### Because there are a few duplicate values in the name column, we will use name + position to serve as our primary key column which we will use to join to our second dataset. Remember, our first contains average draft position (ADP). Our second will contain the final points scored of each player calculated at the end of that season."
   ]
  },
  {
   "cell_type": "code",
   "execution_count": 68,
   "metadata": {},
   "outputs": [
    {
     "name": "stdout",
     "output_type": "stream",
     "text": [
      "Number of duplicate values for 2018-2022\n",
      "0\n",
      "0\n",
      "0\n",
      "0\n",
      "0\n"
     ]
    },
    {
     "data": {
      "text/plain": [
       "0     Todd Gurley IIRB\n",
       "1       Le'Veon BellRB\n",
       "2      David JohnsonRB\n",
       "3    Ezekiel ElliottRB\n",
       "4      Antonio BrownWR\n",
       "Name: PrimaryKey, dtype: object"
      ]
     },
     "execution_count": 68,
     "metadata": {},
     "output_type": "execute_result"
    }
   ],
   "source": [
    "#primary key\n",
    "ADP2018['PrimaryKey'] = ADP2018.Player+ADP2018.POS\n",
    "ADP2019['PrimaryKey'] = ADP2019.Player+ADP2019.POS\n",
    "ADP2020['PrimaryKey'] = ADP2020.Player+ADP2020.POS\n",
    "ADP2021['PrimaryKey'] = ADP2021.Player+ADP2021.POS\n",
    "ADP2022['PrimaryKey'] = ADP2022.Player+ADP2022.POS\n",
    "\n",
    "\n",
    "\n",
    "#ensure that our primary key does not have any duplicates\n",
    "print('Number of duplicate values for 2018-2022')\n",
    "print(ADP2018.PrimaryKey.duplicated().sum())\n",
    "print(ADP2019.PrimaryKey.duplicated().sum())\n",
    "print(ADP2020.PrimaryKey.duplicated().sum())\n",
    "print(ADP2021.PrimaryKey.duplicated().sum())\n",
    "print(ADP2022.PrimaryKey.duplicated().sum())\n",
    "ADP2018.PrimaryKey.head()\n",
    "\n",
    "\n",
    "\n",
    "\n",
    "\n",
    "\n",
    "\n"
   ]
  },
  {
   "cell_type": "code",
   "execution_count": 69,
   "metadata": {},
   "outputs": [
    {
     "data": {
      "text/html": [
       "<div>\n",
       "<style scoped>\n",
       "    .dataframe tbody tr th:only-of-type {\n",
       "        vertical-align: middle;\n",
       "    }\n",
       "\n",
       "    .dataframe tbody tr th {\n",
       "        vertical-align: top;\n",
       "    }\n",
       "\n",
       "    .dataframe thead th {\n",
       "        text-align: right;\n",
       "    }\n",
       "</style>\n",
       "<table border=\"1\" class=\"dataframe\">\n",
       "  <thead>\n",
       "    <tr style=\"text-align: right;\">\n",
       "      <th></th>\n",
       "      <th>Rank</th>\n",
       "      <th>Player</th>\n",
       "      <th>Team</th>\n",
       "      <th>Position</th>\n",
       "      <th>Points</th>\n",
       "      <th>Games</th>\n",
       "      <th>Avg</th>\n",
       "    </tr>\n",
       "  </thead>\n",
       "  <tbody>\n",
       "    <tr>\n",
       "      <th>0</th>\n",
       "      <td>1.0</td>\n",
       "      <td>Patrick Mahomes II</td>\n",
       "      <td>KC</td>\n",
       "      <td>QB</td>\n",
       "      <td>417.0</td>\n",
       "      <td>16.0</td>\n",
       "      <td>26.1</td>\n",
       "    </tr>\n",
       "    <tr>\n",
       "      <th>1</th>\n",
       "      <td>2.0</td>\n",
       "      <td>Saquon Barkley</td>\n",
       "      <td>NYG</td>\n",
       "      <td>RB</td>\n",
       "      <td>385.8</td>\n",
       "      <td>16.0</td>\n",
       "      <td>24.1</td>\n",
       "    </tr>\n",
       "    <tr>\n",
       "      <th>2</th>\n",
       "      <td>3.0</td>\n",
       "      <td>Christian McCaffrey</td>\n",
       "      <td>CAR</td>\n",
       "      <td>RB</td>\n",
       "      <td>385.5</td>\n",
       "      <td>16.0</td>\n",
       "      <td>24.1</td>\n",
       "    </tr>\n",
       "    <tr>\n",
       "      <th>3</th>\n",
       "      <td>4.0</td>\n",
       "      <td>Todd Gurley II</td>\n",
       "      <td>LAR</td>\n",
       "      <td>RB</td>\n",
       "      <td>372.1</td>\n",
       "      <td>14.0</td>\n",
       "      <td>26.6</td>\n",
       "    </tr>\n",
       "    <tr>\n",
       "      <th>4</th>\n",
       "      <td>5.0</td>\n",
       "      <td>Matt Ryan</td>\n",
       "      <td>ATL</td>\n",
       "      <td>QB</td>\n",
       "      <td>355.0</td>\n",
       "      <td>16.0</td>\n",
       "      <td>22.2</td>\n",
       "    </tr>\n",
       "  </tbody>\n",
       "</table>\n",
       "</div>"
      ],
      "text/plain": [
       "   Rank               Player Team Position  Points  Games   Avg\n",
       "0   1.0   Patrick Mahomes II   KC       QB   417.0   16.0  26.1\n",
       "1   2.0       Saquon Barkley  NYG       RB   385.8   16.0  24.1\n",
       "2   3.0  Christian McCaffrey  CAR       RB   385.5   16.0  24.1\n",
       "3   4.0       Todd Gurley II  LAR       RB   372.1   14.0  26.6\n",
       "4   5.0            Matt Ryan  ATL       QB   355.0   16.0  22.2"
      ]
     },
     "execution_count": 69,
     "metadata": {},
     "output_type": "execute_result"
    }
   ],
   "source": [
    "#Import player points scored for each year\n",
    "Rank2018 = pd.read_csv(r'2018 FantasyPros_Fantasy_Football_Points_PPR.csv')\n",
    "Rank2019 = pd.read_csv(r'2019 FantasyPros_Fantasy_Football_Points_PPR.csv')\n",
    "Rank2020 = pd.read_csv(r'2020 FantasyPros_Fantasy_Football_Points_PPR.csv')\n",
    "Rank2021 = pd.read_csv(r'2021 FantasyPros_Fantasy_Football_Points_PPR.csv')\n",
    "Rank2022 = pd.read_csv(r'2022 FantasyPros_Fantasy_Football_Points_PPR.csv')\n",
    "Rank2018.head()"
   ]
  },
  {
   "cell_type": "markdown",
   "metadata": {
    "collapsed": true
   },
   "source": [
    "##### The following simply repeats the cleaning steps seen above\n"
   ]
  },
  {
   "cell_type": "code",
   "execution_count": 70,
   "metadata": {},
   "outputs": [
    {
     "name": "stdout",
     "output_type": "stream",
     "text": [
      "**********player column************\n",
      "     Rank Player Team Position  Points  Games  Avg\n",
      "696   NaN    NaN  NaN      NaN     NaN    NaN  NaN\n",
      "697   NaN    NaN  NaN      NaN     NaN    NaN  NaN\n",
      "     Rank Player Team Position  Points  Games  Avg\n",
      "808   NaN    NaN  NaN      NaN     NaN    NaN  NaN\n",
      "809   NaN    NaN  NaN      NaN     NaN    NaN  NaN\n",
      "     Rank Player Team Position  Points  Games  Avg\n",
      "740   NaN    NaN  NaN      NaN     NaN    NaN  NaN\n",
      "741   NaN    NaN  NaN      NaN     NaN    NaN  NaN\n",
      "**********average column************\n",
      "     Rank Player Team Position  Points  Games  Avg\n",
      "696   NaN    NaN  NaN      NaN     NaN    NaN  NaN\n",
      "697   NaN    NaN  NaN      NaN     NaN    NaN  NaN\n",
      "     Rank Player Team Position  Points  Games  Avg\n",
      "808   NaN    NaN  NaN      NaN     NaN    NaN  NaN\n",
      "809   NaN    NaN  NaN      NaN     NaN    NaN  NaN\n",
      "     Rank Player Team Position  Points  Games  Avg\n",
      "740   NaN    NaN  NaN      NaN     NaN    NaN  NaN\n",
      "741   NaN    NaN  NaN      NaN     NaN    NaN  NaN\n",
      "**********position column************\n",
      "     Rank Player Team Position  Points  Games  Avg\n",
      "696   NaN    NaN  NaN      NaN     NaN    NaN  NaN\n",
      "697   NaN    NaN  NaN      NaN     NaN    NaN  NaN\n",
      "     Rank Player Team Position  Points  Games  Avg\n",
      "808   NaN    NaN  NaN      NaN     NaN    NaN  NaN\n",
      "809   NaN    NaN  NaN      NaN     NaN    NaN  NaN\n",
      "     Rank Player Team Position  Points  Games  Avg\n",
      "740   NaN    NaN  NaN      NaN     NaN    NaN  NaN\n",
      "741   NaN    NaN  NaN      NaN     NaN    NaN  NaN\n"
     ]
    }
   ],
   "source": [
    "Rank2018['Player'] = Rank2018['Player'].str.strip()\n",
    "Rank2019['Player'] = Rank2019['Player'].str.strip()\n",
    "Rank2020['Player'] = Rank2020['Player'].str.strip()\n",
    "Rank2021['Player'] = Rank2021['Player'].str.strip()\n",
    "Rank2022['Player'] = Rank2022['Player'].str.strip()\n",
    "\n",
    "print('**********player column************')\n",
    "print(Rank2018[Rank2018.Player.isnull()])\n",
    "print(Rank2019[Rank2019.Player.isnull()])\n",
    "print(Rank2020[Rank2020.Player.isnull()])\n",
    "print('**********average column************')\n",
    "print(Rank2018[Rank2018.Avg.isnull()])\n",
    "print(Rank2019[Rank2019.Avg.isnull()])\n",
    "print(Rank2020[Rank2020.Avg.isnull()])\n",
    "print('**********position column************')\n",
    "print(Rank2018[Rank2018.Position.isnull()])\n",
    "print(Rank2019[Rank2019.Position.isnull()])\n",
    "print(Rank2020[Rank2020.Position.isnull()])"
   ]
  },
  {
   "cell_type": "code",
   "execution_count": 71,
   "metadata": {},
   "outputs": [
    {
     "name": "stdout",
     "output_type": "stream",
     "text": [
      "(698, 7)\n",
      "(810, 7)\n",
      "(742, 7)\n",
      "(756, 7)\n",
      "(677, 7)\n",
      "***new shapes***\n",
      "(696, 7)\n",
      "(808, 7)\n",
      "(740, 7)\n",
      "(754, 7)\n",
      "(675, 7)\n"
     ]
    }
   ],
   "source": [
    "print(Rank2018.shape,Rank2019.shape,Rank2020.shape,Rank2021.shape,Rank2022.shape,sep = '\\n')\n",
    "Rank2018 = Rank2018.dropna()\n",
    "Rank2019 = Rank2019.dropna()\n",
    "Rank2020 = Rank2020.dropna()\n",
    "Rank2021 = Rank2021.dropna()\n",
    "Rank2022 = Rank2022.dropna()\n",
    "print('***new shapes***')\n",
    "print(Rank2018.shape,Rank2019.shape,Rank2020.shape,Rank2021.shape,Rank2022.shape,sep = '\\n')"
   ]
  },
  {
   "cell_type": "code",
   "execution_count": 72,
   "metadata": {},
   "outputs": [
    {
     "name": "stdout",
     "output_type": "stream",
     "text": [
      "Reveal number of duplicate primary key values for 2018-2022\n",
      "0\n",
      "0\n",
      "0\n",
      "0\n",
      "0\n"
     ]
    },
    {
     "data": {
      "text/plain": [
       "0     Patrick Mahomes IIQB\n",
       "1         Saquon BarkleyRB\n",
       "2    Christian McCaffreyRB\n",
       "3         Todd Gurley IIRB\n",
       "4              Matt RyanQB\n",
       "Name: PrimaryKey, dtype: object"
      ]
     },
     "execution_count": 72,
     "metadata": {},
     "output_type": "execute_result"
    }
   ],
   "source": [
    "Rank2018['PrimaryKey'] = Rank2018.Player+Rank2018.Position\n",
    "Rank2019['PrimaryKey'] = Rank2019.Player+Rank2019.Position\n",
    "Rank2020['PrimaryKey'] = Rank2020.Player+Rank2020.Position\n",
    "Rank2021['PrimaryKey'] = Rank2021.Player+Rank2021.Position\n",
    "Rank2022['PrimaryKey'] = Rank2022.Player+Rank2022.Position\n",
    "\n",
    "\n",
    "\n",
    "\n",
    "print('Reveal number of duplicate primary key values for 2018-2022')\n",
    "print(Rank2018.PrimaryKey.duplicated().sum())\n",
    "print(Rank2019.PrimaryKey.duplicated().sum())\n",
    "print(Rank2020.PrimaryKey.duplicated().sum())\n",
    "print(Rank2021.PrimaryKey.duplicated().sum())\n",
    "print(Rank2022.PrimaryKey.duplicated().sum())\n",
    "\n",
    "Rank2018.PrimaryKey.head()"
   ]
  },
  {
   "cell_type": "markdown",
   "metadata": {},
   "source": [
    "##### The following cell corrects any typos incounterd in the name column when attempting to run the code"
   ]
  },
  {
   "cell_type": "code",
   "execution_count": 73,
   "metadata": {
    "collapsed": true
   },
   "outputs": [],
   "source": [
    "ADP2018['PrimaryKey'] = ADP2018['PrimaryKey'].replace(['Greg lsen OTE'], 'Greg OlsenTE')\n",
    "ADP2020['PrimaryKey'] = ADP2020['PrimaryKey'].replace(['dell Beckham Jr. OWR'], 'Odell Beckham Jr.WR')\n",
    "#this player did not end up playing this season\n",
    "ADP2021 = ADP2021[ADP2021['PrimaryKey'] != 'Gus EdwardsRB']"
   ]
  },
  {
   "cell_type": "markdown",
   "metadata": {},
   "source": [
    "## The cell below accomplishes most of the productivity in this workbook. It simulates a mock draft for each of the 5040 different permutations. Because this takes a fair amount of time, I commented it out. We will simply upload the finished product that I previously obtained and continue forward. Feel free to test the code for yourself. It should produce the same results.\n",
    "\n",
    "The parameters in the function are as follows: the draftspot of the individual we are drafting for, the number of teams in the league/draft, the first dataset (for a given year), and the second dataset (for a given year). \n",
    "\n",
    "An assumption in this function is that all players (we will call them NPCs) except for the player we are measuring will draft the next best player available to him/her. Best is calulated as the lowest average draft position (ADP). In reality, there will be a fair amount of deviance from adp, but it is the most reliable estimate we have. We are assuming a standard team composition as seen in the \"positions\" varaible defined at the very top. If an NPC has already met his/her limit on a given position, the NPC will find the next lowest ADP player at an available postion. \n",
    "\n",
    "Similarly, the player will draft the lowest ADP by the given postion in the permutated sequence. For example if the beginning of the sequence is RB,RB,WR then the player must draft in that order even if lower adp players are available. \n",
    "\n",
    "also note that the 'flex' position can technically be either a RB, WR, or TE... it is the owner's choice. However, it is almost never a TE (this postion tends to score less) so we assume it must be either a WR or RB.\n",
    "\n",
    "Lastly, in the game of FF there are a few positions unncounted for in this simulation -- defense and kicker. However, they are generally irrelevent and heavily luck dependent. Also, a player normally drafts backup players in addtion to the starters. This simulation does not include backups as they would make the simulation run even slower and complicate calculations. A player's points will only count if he is is your starting lineup, and there is no way to know how often an owner will start a given player. Therefore, we simply assume he starts his highest drafted players each game. "
   ]
  },
  {
   "cell_type": "code",
   "execution_count": 74,
   "metadata": {
    "collapsed": true
   },
   "outputs": [],
   "source": [
    "def SimulateDraft(DraftSpot,NumTeams,ADPData,RankData):\n",
    "    #this dictionary stores each sequence with resulting positions and total points scored for the player\n",
    "    SeqAndScore = {}\n",
    "    for i, sequence in enumerate(positions):\n",
    "        #we need a fresh dataset for each sequence\n",
    "        ADP = ADPData.copy()\n",
    "        Rank = RankData.copy()\n",
    "        #this variable houses all teams in the draft\n",
    "        Teams = {}\n",
    "        for x in range(NumTeams):\n",
    "            #if NPC, order does not matter\n",
    "            if x != DraftSpot:\n",
    "                Teams[x] = ['RB','RB','WR','WR','TE','QB','FLEX']\n",
    "            #if player, use appropriate sequence\n",
    "            else:\n",
    "                Teams[DraftSpot] = list(sequence)\n",
    "        #for every position\n",
    "        for position_num in range(7):\n",
    "            #Theses next few lines ensure the simulation performs a 'snake' draft. Players who drafted last in the first round draft last in the second\n",
    "            if position_num % 2 == 0:\n",
    "                DraftOrder = range(NumTeams)\n",
    "            else:\n",
    "                DraftOrder = reversed(range(NumTeams))\n",
    "            #for each team in the draft\n",
    "            for team_num in DraftOrder:\n",
    "                #check if player or NPC\n",
    "                if team_num == DraftSpot:\n",
    "                    '''We take the position specified in the sequence and find the next best ADP\n",
    "                    of that position. this player is added to the \"Teams\" dictionary and the position\n",
    "                    in the sequence is replaced by the player name'''\n",
    "                    if sequence[position_num] != 'FLEX':\n",
    "                        Teams[DraftSpot][position_num] = ADP[ADP['POS'] == sequence[position_num]]['PrimaryKey'].iloc[0]\n",
    "                        # each 'Rank' is unique so it serves as a way to eliminate values from the dataframe after they are used\n",
    "                        Key = ADP[ADP['POS'] == sequence[position_num]]['Rank'].iloc[0]\n",
    "                        #remove drafted player from the pool of available players to draft\n",
    "                        ADP = ADP[ADP['Rank'] != Key]\n",
    "                    #if position is flex, we find next best RB or WR\n",
    "                    else:\n",
    "                        Teams[DraftSpot][position_num] = ADP[(ADP['POS'] == 'WR')|(ADP['POS'] == 'RB')]['PrimaryKey'].iloc[0]\n",
    "                        Key = ADP[(ADP['POS'] == 'WR')|(ADP['POS'] == 'RB')]['Rank'].iloc[0]\n",
    "                        ADP = ADP[ADP['Rank'] != Key]\n",
    "                #if NPC\n",
    "                else:\n",
    "                    '''The NPC is not forced to follow a sequence of drafting certain player postitions\n",
    "                    so it takes the next best player if it has room for that type. The counter is used to \n",
    "                    increment through the dataset if the NPC has met its limit for a given postion type'''\n",
    "                    counter = 0\n",
    "                    while 'RB' in Teams[team_num] or 'WR' in Teams[team_num] or 'TE' in Teams[team_num] \\\n",
    "                    or 'QB' in Teams[team_num] or 'FLEX' in Teams[team_num]:\n",
    "                        Position = ADP['POS'].iloc[counter]\n",
    "                        Player = ADP['PrimaryKey'].iloc[counter]\n",
    "                        Key = ADP['Rank'].iloc[counter]\n",
    "                        if Position in Teams[team_num]:\n",
    "                            #this is the index of the list of postions for this particular NPC\n",
    "                            index = Teams[team_num].index(Position)\n",
    "                            #the index is replaced with the player\n",
    "                            Teams[team_num][index] = Player\n",
    "                            #remove the drafted player\n",
    "                            ADP = ADP[ADP['Rank'] != Key]\n",
    "                            break\n",
    "                        elif 'FLEX' in Teams[team_num]:\n",
    "                            #repeat process except with RB or WR\n",
    "                            Player = ADP[(ADP['POS'] == 'RB') | (ADP['POS'] == 'WR')]['PrimaryKey'].iloc[0]\n",
    "                            Key = ADP[(ADP['POS'] == 'RB') | (ADP['POS'] == 'WR')]['Rank'].iloc[0]\n",
    "                            index = Teams[team_num].index('FLEX')\n",
    "                            Teams[team_num][index] = Player\n",
    "                            ADP = ADP[ADP['Rank'] != Key]\n",
    "                            break\n",
    "                        else:\n",
    "                            counter +=1\n",
    "        #this is our team   \n",
    "        MyTeam = Teams[DraftSpot]\n",
    "        #store the final scores of each player on the team\n",
    "        ScoreList = []\n",
    "        #store the positions of each player\n",
    "        PosList = []\n",
    "        for player in MyTeam:\n",
    "            \n",
    "            #get scores from the second dataset\n",
    "            ScoreList.append(Rank[Rank['PrimaryKey'] == player]['Points'].iloc[0])\n",
    "            PosList.append(Rank[Rank['PrimaryKey'] == player]['Position'].iloc[0])\n",
    "        #store the scores/positions as a value in a dictionary with the respective sequence as the key\n",
    "        SeqAndScore[i] = (PosList,sum(ScoreList))\n",
    "    return SeqAndScore"
   ]
  },
  {
   "cell_type": "markdown",
   "metadata": {},
   "source": [
    "##### see the above chunk of text for explanation on the following commented code"
   ]
  },
  {
   "cell_type": "code",
   "execution_count": 75,
   "metadata": {},
   "outputs": [
    {
     "data": {
      "text/plain": [
       "'Year2018 = SimulateDraft(DraftSpot = 6,NumTeams =12,ADPData = ADP2018, RankData = Rank2018)\\nprint(Year2018)\\nYear2019 = SimulateDraft(DraftSpot = 6,NumTeams =12,ADPData = ADP2019, RankData = Rank2019)\\nprint(Year2019)\\nYear2020 = SimulateDraft(DraftSpot = 6,NumTeams =12,ADPData = ADP2020, RankData = Rank2020)\\nprint(Year2020)\\nYear2021 = SimulateDraft(DraftSpot = 6,NumTeams =12,ADPData = ADP2021, RankData = Rank2021)\\nprint(Year2021)\\nYear2022 = SimulateDraft(DraftSpot = 6,NumTeams =12,ADPData = ADP2022, RankData = Rank2022)\\nprint(Year2022)'"
      ]
     },
     "execution_count": 75,
     "metadata": {},
     "output_type": "execute_result"
    }
   ],
   "source": [
    "'''Year2018 = SimulateDraft(DraftSpot = 6,NumTeams =12,ADPData = ADP2018, RankData = Rank2018)\n",
    "print(Year2018)\n",
    "Year2019 = SimulateDraft(DraftSpot = 6,NumTeams =12,ADPData = ADP2019, RankData = Rank2019)\n",
    "print(Year2019)\n",
    "Year2020 = SimulateDraft(DraftSpot = 6,NumTeams =12,ADPData = ADP2020, RankData = Rank2020)\n",
    "print(Year2020)\n",
    "Year2021 = SimulateDraft(DraftSpot = 6,NumTeams =12,ADPData = ADP2021, RankData = Rank2021)\n",
    "print(Year2021)\n",
    "Year2022 = SimulateDraft(DraftSpot = 6,NumTeams =12,ADPData = ADP2022, RankData = Rank2022)\n",
    "print(Year2022)'''\n"
   ]
  },
  {
   "cell_type": "code",
   "execution_count": 76,
   "metadata": {},
   "outputs": [
    {
     "data": {
      "text/plain": [
       "'\\n#2018\\nPositionsList = [x[0] for x in Year2018.values()]\\nScoreList = [x[1] for x in Year2018.values()]\\ndf2018 = pd.DataFrame(PositionsList, columns =[\\'Pick_1\\', \\'Pick_2\\', \\'Pick_3\\',\\'Pick_4\\', \\'Pick_5\\', \\'Pick_6\\',\\'Pick_7\\'], dtype = str)\\ndf2018[\\'TotalScore\\'] = ScoreList\\nprint(df2018.head())\\ndf2018.to_csv(\"Simulated2018\")\\n#2019\\nPositionsList = [x[0] for x in Year2019.values()]\\nScoreList = [x[1] for x in Year2019.values()]\\ndf2019 = pd.DataFrame(PositionsList, columns =[\\'Pick_1\\', \\'Pick_2\\', \\'Pick_3\\',\\'Pick_4\\', \\'Pick_5\\', \\'Pick_6\\',\\'Pick_7\\'], dtype = str)\\ndf2019[\\'TotalScore\\'] = ScoreList\\nprint(df2019.head())\\ndf2019.to_csv(\"Simulated2019\")\\n\\n#2020\\nPositionsList = [x[0] for x in Year2020.values()]\\nScoreList = [x[1] for x in Year2020.values()]\\ndf2020 = pd.DataFrame(PositionsList, columns =[\\'Pick_1\\', \\'Pick_2\\', \\'Pick_3\\',\\'Pick_4\\', \\'Pick_5\\', \\'Pick_6\\',\\'Pick_7\\'], dtype = str)\\ndf2020[\\'TotalScore\\'] = ScoreList\\nprint(df2020.head())\\ndf2020.to_csv(\"Simulated2020\")\\n#2021\\nPositionsList = [x[0] for x in Year2021.values()]\\nScoreList = [x[1] for x in Year2021.values()]\\ndf2021 = pd.DataFrame(PositionsList, columns =[\\'Pick_1\\', \\'Pick_2\\', \\'Pick_3\\',\\'Pick_4\\', \\'Pick_5\\', \\'Pick_6\\',\\'Pick_7\\'], dtype = str)\\ndf2021[\\'TotalScore\\'] = ScoreList\\nprint(df2021.head())\\ndf2021.to_csv(\"Simulated2021\")\\n#2022\\nPositionsList = [x[0] for x in Year2022.values()]\\nScoreList = [x[1] for x in Year2022.values()]\\ndf2022 = pd.DataFrame(PositionsList, columns =[\\'Pick_1\\', \\'Pick_2\\', \\'Pick_3\\',\\'Pick_4\\', \\'Pick_5\\', \\'Pick_6\\',\\'Pick_7\\'], dtype = str)\\ndf2022[\\'TotalScore\\'] = ScoreList\\n#we scale this by 17/12 because 2022 season is not finished. It is in week 12 of 17.\\ndf2022[\\'TotalScore\\'] = df2022[\\'TotalScore\\'] * 17/12\\nprint(df2022.head())\\ndf2022.to_csv(\"Simulated2022\")'"
      ]
     },
     "execution_count": 76,
     "metadata": {},
     "output_type": "execute_result"
    }
   ],
   "source": [
    "#convert dictionaries to dataframe\n",
    "'''\n",
    "#2018\n",
    "PositionsList = [x[0] for x in Year2018.values()]\n",
    "ScoreList = [x[1] for x in Year2018.values()]\n",
    "df2018 = pd.DataFrame(PositionsList, columns =['Pick_1', 'Pick_2', 'Pick_3','Pick_4', 'Pick_5', 'Pick_6','Pick_7'], dtype = str)\n",
    "df2018['TotalScore'] = ScoreList\n",
    "print(df2018.head())\n",
    "df2018.to_csv(\"Simulated2018\")\n",
    "#2019\n",
    "PositionsList = [x[0] for x in Year2019.values()]\n",
    "ScoreList = [x[1] for x in Year2019.values()]\n",
    "df2019 = pd.DataFrame(PositionsList, columns =['Pick_1', 'Pick_2', 'Pick_3','Pick_4', 'Pick_5', 'Pick_6','Pick_7'], dtype = str)\n",
    "df2019['TotalScore'] = ScoreList\n",
    "print(df2019.head())\n",
    "df2019.to_csv(\"Simulated2019\")\n",
    "\n",
    "#2020\n",
    "PositionsList = [x[0] for x in Year2020.values()]\n",
    "ScoreList = [x[1] for x in Year2020.values()]\n",
    "df2020 = pd.DataFrame(PositionsList, columns =['Pick_1', 'Pick_2', 'Pick_3','Pick_4', 'Pick_5', 'Pick_6','Pick_7'], dtype = str)\n",
    "df2020['TotalScore'] = ScoreList\n",
    "print(df2020.head())\n",
    "df2020.to_csv(\"Simulated2020\")\n",
    "#2021\n",
    "PositionsList = [x[0] for x in Year2021.values()]\n",
    "ScoreList = [x[1] for x in Year2021.values()]\n",
    "df2021 = pd.DataFrame(PositionsList, columns =['Pick_1', 'Pick_2', 'Pick_3','Pick_4', 'Pick_5', 'Pick_6','Pick_7'], dtype = str)\n",
    "df2021['TotalScore'] = ScoreList\n",
    "print(df2021.head())\n",
    "df2021.to_csv(\"Simulated2021\")\n",
    "#2022\n",
    "PositionsList = [x[0] for x in Year2022.values()]\n",
    "ScoreList = [x[1] for x in Year2022.values()]\n",
    "df2022 = pd.DataFrame(PositionsList, columns =['Pick_1', 'Pick_2', 'Pick_3','Pick_4', 'Pick_5', 'Pick_6','Pick_7'], dtype = str)\n",
    "df2022['TotalScore'] = ScoreList\n",
    "#we scale this by 17/12 because 2022 season is not finished. It is in week 12 of 17.\n",
    "df2022['TotalScore'] = df2022['TotalScore'] * 17/12\n",
    "print(df2022.head())\n",
    "df2022.to_csv(\"Simulated2022\")'''"
   ]
  },
  {
   "cell_type": "code",
   "execution_count": 77,
   "metadata": {
    "collapsed": true
   },
   "outputs": [],
   "source": [
    "#as mentioned above... here is the output from the commented code\n",
    "DF2018 = pd.read_csv(r'Simulated2018')\n",
    "DF2019 = pd.read_csv(r'Simulated2019')\n",
    "DF2020 = pd.read_csv(r'Simulated2020')\n",
    "DF2021 = pd.read_csv(r'Simulated2021')\n",
    "DF2022 = pd.read_csv(r'Simulated2022')\n",
    "#sort values to see the best sequences\n",
    "DF2018 = DF2018.sort_values('TotalScore')\n",
    "DF2019 = DF2019.sort_values('TotalScore')\n",
    "DF2020 = DF2020.sort_values('TotalScore')\n",
    "DF2021 = DF2021.sort_values('TotalScore')\n",
    "DF2022 = DF2022.sort_values('TotalScore')"
   ]
  },
  {
   "cell_type": "markdown",
   "metadata": {},
   "source": [
    "Before we move forward. Lets do some preliminary analysis on points scored for each position irregardless to the simulation. We combine all years worth of rankings but only take the first 84 of each since this is the number of players taken in each draft in the simulation I am demonstrating (spot 6 with 12 people drafting). Including results from the entire dataset would be less accurate since most of the players will never be drafted or used on someone's team. We will also get a second dataset that includes room for bench players because some positions like TE are stacked at the very top but quickly fall in value. This value drop is not seen just viewing starters, and it,s worth observing since bench players can provide some supplementary assistance to a team, or your starters could get injured.\n",
    "\n",
    "##### the dataframes above are not relevent to the immdediately following code"
   ]
  },
  {
   "cell_type": "code",
   "execution_count": 78,
   "metadata": {
    "collapsed": true
   },
   "outputs": [],
   "source": [
    "#only columns and rows we need for starting lineup + fivel bench spots.\n",
    "Rank2018B = Rank2018[['Player','Position','Points']].iloc[:12*12]\n",
    "Rank2019B = Rank2019[['Player','Position','Points']].iloc[:12*12]\n",
    "Rank2020B = Rank2020[['Player','Position','Points']].iloc[:12*12]\n",
    "Rank2021B = Rank2021[['Player','Position','Points']].iloc[:12*12]\n",
    "Rank2022B = Rank2022[['Player','Position','Points']].iloc[:12*12]\n",
    "\n",
    "#only columns and rows we need for starting lineup\n",
    "Rank2018 = Rank2018[['Player','Position','Points']].iloc[:7*12]\n",
    "Rank2019 = Rank2019[['Player','Position','Points']].iloc[:7*12]\n",
    "Rank2020 = Rank2020[['Player','Position','Points']].iloc[:7*12]\n",
    "Rank2021 = Rank2021[['Player','Position','Points']].iloc[:7*12]\n",
    "Rank2022 = Rank2022[['Player','Position','Points']].iloc[:7*12]\n",
    "#multiplying by 17/12 since this season is unfinished... data is scaled\n",
    "Rank2022['Points'] = Rank2022['Points'] * 17/12"
   ]
  },
  {
   "cell_type": "code",
   "execution_count": 79,
   "metadata": {},
   "outputs": [
    {
     "name": "stdout",
     "output_type": "stream",
     "text": [
      "size of dataframe: 420 ;)\n"
     ]
    },
    {
     "data": {
      "text/html": [
       "<div>\n",
       "<style scoped>\n",
       "    .dataframe tbody tr th:only-of-type {\n",
       "        vertical-align: middle;\n",
       "    }\n",
       "\n",
       "    .dataframe tbody tr th {\n",
       "        vertical-align: top;\n",
       "    }\n",
       "\n",
       "    .dataframe thead th {\n",
       "        text-align: right;\n",
       "    }\n",
       "</style>\n",
       "<table border=\"1\" class=\"dataframe\">\n",
       "  <thead>\n",
       "    <tr style=\"text-align: right;\">\n",
       "      <th></th>\n",
       "      <th>Player</th>\n",
       "      <th>Position</th>\n",
       "      <th>Points</th>\n",
       "    </tr>\n",
       "  </thead>\n",
       "  <tbody>\n",
       "    <tr>\n",
       "      <th>0</th>\n",
       "      <td>Patrick Mahomes II</td>\n",
       "      <td>QB</td>\n",
       "      <td>417.0</td>\n",
       "    </tr>\n",
       "    <tr>\n",
       "      <th>1</th>\n",
       "      <td>Saquon Barkley</td>\n",
       "      <td>RB</td>\n",
       "      <td>385.8</td>\n",
       "    </tr>\n",
       "    <tr>\n",
       "      <th>2</th>\n",
       "      <td>Christian McCaffrey</td>\n",
       "      <td>RB</td>\n",
       "      <td>385.5</td>\n",
       "    </tr>\n",
       "    <tr>\n",
       "      <th>3</th>\n",
       "      <td>Todd Gurley II</td>\n",
       "      <td>RB</td>\n",
       "      <td>372.1</td>\n",
       "    </tr>\n",
       "    <tr>\n",
       "      <th>4</th>\n",
       "      <td>Matt Ryan</td>\n",
       "      <td>QB</td>\n",
       "      <td>355.0</td>\n",
       "    </tr>\n",
       "  </tbody>\n",
       "</table>\n",
       "</div>"
      ],
      "text/plain": [
       "                Player Position  Points\n",
       "0   Patrick Mahomes II       QB   417.0\n",
       "1       Saquon Barkley       RB   385.8\n",
       "2  Christian McCaffrey       RB   385.5\n",
       "3       Todd Gurley II       RB   372.1\n",
       "4            Matt Ryan       QB   355.0"
      ]
     },
     "execution_count": 79,
     "metadata": {},
     "output_type": "execute_result"
    }
   ],
   "source": [
    "#combine all years into df named Big\n",
    "print('size of dataframe:',str(len(Rank2018)+len(Rank2019)+len(Rank2020)+len(Rank2021)+len(Rank2022)) +' ;)')\n",
    "L = [Rank2018,Rank2019,Rank2020,Rank2021,Rank2022,]\n",
    "Big = pd.concat(L)\n",
    "Big.head()"
   ]
  },
  {
   "cell_type": "code",
   "execution_count": 80,
   "metadata": {},
   "outputs": [
    {
     "name": "stdout",
     "output_type": "stream",
     "text": [
      "mean, 25%, median, 50%\n"
     ]
    },
    {
     "data": {
      "text/plain": [
       "[('QB', [280.32388451443575, 235.5875, 271.3, 329.25]),\n",
       " ('RB', [245.05015432098767, 200.5, 229.05, 272.34375]),\n",
       " ('TE', [243.0375, 206.68333333333334, 222.35, 279.02500000000003]),\n",
       " ('WR', [237.84953703703704, 198.6, 227.55, 261.15])]"
      ]
     },
     "execution_count": 80,
     "metadata": {},
     "output_type": "execute_result"
    }
   ],
   "source": [
    "#store descriptive statsitcs of Big in Stats dictionary for each position\n",
    "Stats = {}\n",
    "rb = Big[Big.Position == 'RB'].describe()\n",
    "wr = Big[Big.Position == 'WR'].describe()\n",
    "te = Big[Big.Position == 'TE'].describe()\n",
    "qb = Big[Big.Position == 'QB'].describe()\n",
    "Stats['RB'] = [rb.loc['mean'][0],rb.loc['25%'][0],rb.loc['50%'][0],rb.loc['75%'][0]]\n",
    "Stats['WR'] = [wr.loc['mean'][0],wr.loc['25%'][0],wr.loc['50%'][0],wr.loc['75%'][0]]\n",
    "Stats['TE'] = [te.loc['mean'][0],te.loc['25%'][0],te.loc['50%'][0],te.loc['75%'][0]]\n",
    "Stats['QB'] = [qb.loc['mean'][0],qb.loc['25%'][0],qb.loc['50%'][0],qb.loc['75%'][0]]\n",
    "print('mean, 25%, median,', '50%')\n",
    "sorted(Stats.items(), key=lambda x: Stats[x[0]][0], reverse=True)"
   ]
  },
  {
   "cell_type": "markdown",
   "metadata": {},
   "source": [
    "##### We will repeat the same process in the next few cells for a dataframe including some bench players"
   ]
  },
  {
   "cell_type": "code",
   "execution_count": 81,
   "metadata": {},
   "outputs": [
    {
     "name": "stdout",
     "output_type": "stream",
     "text": [
      "720\n"
     ]
    },
    {
     "data": {
      "text/html": [
       "<div>\n",
       "<style scoped>\n",
       "    .dataframe tbody tr th:only-of-type {\n",
       "        vertical-align: middle;\n",
       "    }\n",
       "\n",
       "    .dataframe tbody tr th {\n",
       "        vertical-align: top;\n",
       "    }\n",
       "\n",
       "    .dataframe thead th {\n",
       "        text-align: right;\n",
       "    }\n",
       "</style>\n",
       "<table border=\"1\" class=\"dataframe\">\n",
       "  <thead>\n",
       "    <tr style=\"text-align: right;\">\n",
       "      <th></th>\n",
       "      <th>Player</th>\n",
       "      <th>Position</th>\n",
       "      <th>Points</th>\n",
       "    </tr>\n",
       "  </thead>\n",
       "  <tbody>\n",
       "    <tr>\n",
       "      <th>0</th>\n",
       "      <td>Patrick Mahomes II</td>\n",
       "      <td>QB</td>\n",
       "      <td>417.0</td>\n",
       "    </tr>\n",
       "    <tr>\n",
       "      <th>1</th>\n",
       "      <td>Saquon Barkley</td>\n",
       "      <td>RB</td>\n",
       "      <td>385.8</td>\n",
       "    </tr>\n",
       "    <tr>\n",
       "      <th>2</th>\n",
       "      <td>Christian McCaffrey</td>\n",
       "      <td>RB</td>\n",
       "      <td>385.5</td>\n",
       "    </tr>\n",
       "    <tr>\n",
       "      <th>3</th>\n",
       "      <td>Todd Gurley II</td>\n",
       "      <td>RB</td>\n",
       "      <td>372.1</td>\n",
       "    </tr>\n",
       "    <tr>\n",
       "      <th>4</th>\n",
       "      <td>Matt Ryan</td>\n",
       "      <td>QB</td>\n",
       "      <td>355.0</td>\n",
       "    </tr>\n",
       "  </tbody>\n",
       "</table>\n",
       "</div>"
      ],
      "text/plain": [
       "                Player Position  Points\n",
       "0   Patrick Mahomes II       QB   417.0\n",
       "1       Saquon Barkley       RB   385.8\n",
       "2  Christian McCaffrey       RB   385.5\n",
       "3       Todd Gurley II       RB   372.1\n",
       "4            Matt Ryan       QB   355.0"
      ]
     },
     "execution_count": 81,
     "metadata": {},
     "output_type": "execute_result"
    }
   ],
   "source": [
    "#repeat the process to include 5 bench players represented by BigB\n",
    "print(len(Rank2018B)+len(Rank2019B)+len(Rank2020B)+len(Rank2021B)+len(Rank2022B))\n",
    "L = [Rank2018B,Rank2019B,Rank2020B,Rank2021B,Rank2022B,]\n",
    "BigB = pd.concat(L)\n",
    "BigB.head()"
   ]
  },
  {
   "cell_type": "code",
   "execution_count": 82,
   "metadata": {},
   "outputs": [
    {
     "name": "stdout",
     "output_type": "stream",
     "text": [
      "mean, 25%, median, 75%\n"
     ]
    },
    {
     "data": {
      "text/plain": [
       "[('QB', [246.14304635761593, 187.9, 240.0, 295.3]),\n",
       " ('RB', [198.1903409090909, 153.5, 187.05, 229.025]),\n",
       " ('TE', [173.5412698412698, 144.75, 160.4, 195.8]),\n",
       " ('WR', [196.05836575875486, 151.9, 185.3, 232.9])]"
      ]
     },
     "execution_count": 82,
     "metadata": {},
     "output_type": "execute_result"
    }
   ],
   "source": [
    "#descriptive stats for bench players\n",
    "StatsB = {}\n",
    "rb = BigB[BigB.Position == 'RB'].describe()\n",
    "wr = BigB[BigB.Position == 'WR'].describe()\n",
    "te = BigB[BigB.Position == 'TE'].describe()\n",
    "qb = BigB[BigB.Position == 'QB'].describe()\n",
    "StatsB['RB'] = [rb.loc['mean'][0],rb.loc['25%'][0],rb.loc['50%'][0],rb.loc['75%'][0]]\n",
    "StatsB['WR'] = [wr.loc['mean'][0],wr.loc['25%'][0],wr.loc['50%'][0],wr.loc['75%'][0]]\n",
    "StatsB['TE'] = [te.loc['mean'][0],te.loc['25%'][0],te.loc['50%'][0],te.loc['75%'][0]]\n",
    "StatsB['QB'] = [qb.loc['mean'][0],qb.loc['25%'][0],qb.loc['50%'][0],qb.loc['75%'][0]]\n",
    "print('mean, 25%, median,', '75%')\n",
    "sorted(StatsB.items(), key=lambda x: Stats[x[0]][0], reverse=True)"
   ]
  },
  {
   "cell_type": "code",
   "execution_count": 83,
   "metadata": {},
   "outputs": [
    {
     "name": "stdout",
     "output_type": "stream",
     "text": [
      "DF without bench players followed by DF that includes five bench players\n",
      "Sorted by mean from largest to smallest\n"
     ]
    },
    {
     "name": "stderr",
     "output_type": "stream",
     "text": [
      "<ipython-input-83-1958b06dacef>:6: FutureWarning: In a future version, passing float-dtype values and an integer dtype to DataFrame will retain floating dtype if they cannot be cast losslessly (matching Series behavior). To retain the old behavior, use DataFrame(data).astype(dtype)\n",
      "  DFBig =pd.DataFrame(Stats.values(), columns =['Mean', '25%','Median', '75%' ], dtype = int)\n",
      "<ipython-input-83-1958b06dacef>:8: FutureWarning: In a future version, passing float-dtype values and an integer dtype to DataFrame will retain floating dtype if they cannot be cast losslessly (matching Series behavior). To retain the old behavior, use DataFrame(data).astype(dtype)\n",
      "  DFBigB =pd.DataFrame(StatsB.values(), columns =['Mean', '25%','Median', '75%' ], dtype = int)\n"
     ]
    },
    {
     "data": {
      "text/html": [
       "<div>\n",
       "<style scoped>\n",
       "    .dataframe tbody tr th:only-of-type {\n",
       "        vertical-align: middle;\n",
       "    }\n",
       "\n",
       "    .dataframe tbody tr th {\n",
       "        vertical-align: top;\n",
       "    }\n",
       "\n",
       "    .dataframe thead th {\n",
       "        text-align: right;\n",
       "    }\n",
       "</style>\n",
       "<table border=\"1\" class=\"dataframe\">\n",
       "  <thead>\n",
       "    <tr style=\"text-align: right;\">\n",
       "      <th></th>\n",
       "      <th>Mean</th>\n",
       "      <th>25%</th>\n",
       "      <th>Median</th>\n",
       "      <th>75%</th>\n",
       "      <th>Position</th>\n",
       "    </tr>\n",
       "  </thead>\n",
       "  <tbody>\n",
       "    <tr>\n",
       "      <th>3</th>\n",
       "      <td>280</td>\n",
       "      <td>235</td>\n",
       "      <td>271</td>\n",
       "      <td>329</td>\n",
       "      <td>QB</td>\n",
       "    </tr>\n",
       "    <tr>\n",
       "      <th>0</th>\n",
       "      <td>245</td>\n",
       "      <td>200</td>\n",
       "      <td>229</td>\n",
       "      <td>272</td>\n",
       "      <td>RB</td>\n",
       "    </tr>\n",
       "    <tr>\n",
       "      <th>2</th>\n",
       "      <td>243</td>\n",
       "      <td>206</td>\n",
       "      <td>222</td>\n",
       "      <td>279</td>\n",
       "      <td>TE</td>\n",
       "    </tr>\n",
       "    <tr>\n",
       "      <th>1</th>\n",
       "      <td>237</td>\n",
       "      <td>198</td>\n",
       "      <td>227</td>\n",
       "      <td>261</td>\n",
       "      <td>WR</td>\n",
       "    </tr>\n",
       "  </tbody>\n",
       "</table>\n",
       "</div>"
      ],
      "text/plain": [
       "   Mean  25%  Median  75% Position\n",
       "3   280  235     271  329       QB\n",
       "0   245  200     229  272       RB\n",
       "2   243  206     222  279       TE\n",
       "1   237  198     227  261       WR"
      ]
     },
     "metadata": {},
     "output_type": "display_data"
    },
    {
     "data": {
      "text/html": [
       "<div>\n",
       "<style scoped>\n",
       "    .dataframe tbody tr th:only-of-type {\n",
       "        vertical-align: middle;\n",
       "    }\n",
       "\n",
       "    .dataframe tbody tr th {\n",
       "        vertical-align: top;\n",
       "    }\n",
       "\n",
       "    .dataframe thead th {\n",
       "        text-align: right;\n",
       "    }\n",
       "</style>\n",
       "<table border=\"1\" class=\"dataframe\">\n",
       "  <thead>\n",
       "    <tr style=\"text-align: right;\">\n",
       "      <th></th>\n",
       "      <th>Mean</th>\n",
       "      <th>25%</th>\n",
       "      <th>Median</th>\n",
       "      <th>75%</th>\n",
       "      <th>Position</th>\n",
       "    </tr>\n",
       "  </thead>\n",
       "  <tbody>\n",
       "    <tr>\n",
       "      <th>3</th>\n",
       "      <td>246</td>\n",
       "      <td>187</td>\n",
       "      <td>240</td>\n",
       "      <td>295</td>\n",
       "      <td>QB</td>\n",
       "    </tr>\n",
       "    <tr>\n",
       "      <th>0</th>\n",
       "      <td>198</td>\n",
       "      <td>153</td>\n",
       "      <td>187</td>\n",
       "      <td>229</td>\n",
       "      <td>RB</td>\n",
       "    </tr>\n",
       "    <tr>\n",
       "      <th>1</th>\n",
       "      <td>196</td>\n",
       "      <td>151</td>\n",
       "      <td>185</td>\n",
       "      <td>232</td>\n",
       "      <td>WR</td>\n",
       "    </tr>\n",
       "    <tr>\n",
       "      <th>2</th>\n",
       "      <td>173</td>\n",
       "      <td>144</td>\n",
       "      <td>160</td>\n",
       "      <td>195</td>\n",
       "      <td>TE</td>\n",
       "    </tr>\n",
       "  </tbody>\n",
       "</table>\n",
       "</div>"
      ],
      "text/plain": [
       "   Mean  25%  Median  75% Position\n",
       "3   246  187     240  295       QB\n",
       "0   198  153     187  229       RB\n",
       "1   196  151     185  232       WR\n",
       "2   173  144     160  195       TE"
      ]
     },
     "metadata": {},
     "output_type": "display_data"
    }
   ],
   "source": [
    "#Convert into two dataframes named as DFBig and DFBigB\n",
    "print('DF without bench players followed by DF that includes five bench players')\n",
    "print('Sorted by mean from largest to smallest')\n",
    "POSB = [x for x in StatsB.keys()]\n",
    "POS = [x for x in Stats.keys()]\n",
    "DFBig =pd.DataFrame(Stats.values(), columns =['Mean', '25%','Median', '75%' ], dtype = int)\n",
    "DFBig['Position'] = POS\n",
    "DFBigB =pd.DataFrame(StatsB.values(), columns =['Mean', '25%','Median', '75%' ], dtype = int)\n",
    "DFBigB['Position'] = POSB\n",
    "DFBig = DFBig.sort_values('Mean',ascending = False)\n",
    "DFBigB = DFBigB.sort_values('Mean',ascending = False)\n",
    "display(DFBig,DFBigB)"
   ]
  },
  {
   "cell_type": "markdown",
   "metadata": {},
   "source": [
    "##### Plotting the results for the starters only"
   ]
  },
  {
   "cell_type": "code",
   "execution_count": 84,
   "metadata": {},
   "outputs": [
    {
     "data": {
      "image/png": "[encoded data removed]",
      "text/plain": [
       "<Figure size 1008x648 with 1 Axes>"
      ]
     },
     "metadata": {
      "needs_background": "light"
     },
     "output_type": "display_data"
    }
   ],
   "source": [
    "#plot the results on line chart with eachcolor a different statistic\n",
    "ax = plt.gca() \n",
    "\n",
    "DFBig.plot(kind = 'line',\n",
    "        x = 'Position',\n",
    "        y = 'Mean',\n",
    "        color = 'green',fontsize=13,ax = ax,figsize=(14,9))\n",
    "DFBig.plot(kind = 'line',\n",
    "        x = 'Position',\n",
    "        y = '25%',\n",
    "        color = 'blue',ax = ax)\n",
    "DFBig.plot(kind = 'line',\n",
    "        x = 'Position',\n",
    "        y = '75%',\n",
    "        color = 'red',ax = ax)\n",
    "DFBig.plot(kind = 'line',\n",
    "        x = 'Position',\n",
    "        y = 'Median',\n",
    "        color = 'black',ax = ax)\n",
    "# set the title\n",
    "plt.ylabel('Score',fontsize=15)\n",
    "plt.xlabel('Position', fontsize=15)\n",
    "plt.title('Descriptive Statistics (Starters Only)')\n",
    "\n",
    "\n",
    "plt.show()\n"
   ]
  },
  {
   "cell_type": "markdown",
   "metadata": {},
   "source": [
    "Plotting the results for starters and bench"
   ]
  },
  {
   "cell_type": "code",
   "execution_count": 85,
   "metadata": {},
   "outputs": [
    {
     "data": {
      "image/png": "[encoded data removed]",
      "text/plain": [
       "<Figure size 1008x648 with 1 Axes>"
      ]
     },
     "metadata": {
      "needs_background": "light"
     },
     "output_type": "display_data"
    }
   ],
   "source": [
    "#plot the results on line chart with eachcolor a different statistic\n",
    "ax = plt.gca() \n",
    "DFBigB.plot(kind = 'line',\n",
    "        x = 'Position',fontsize=13,\n",
    "        y = 'Mean',\n",
    "        color = 'green',ax = ax,figsize=(14,9))\n",
    "DFBigB.plot(kind = 'line',\n",
    "        x = 'Position',\n",
    "        y = '25%',\n",
    "        color = 'blue',ax = ax)\n",
    "DFBigB.plot(kind = 'line',\n",
    "        x = 'Position',\n",
    "        y = '75%',\n",
    "        color = 'red',ax = ax)\n",
    "DFBigB.plot(kind = 'line',\n",
    "        x = 'Position',\n",
    "        y = 'Median',\n",
    "        color = 'black',ax = ax)\n",
    "# show the plot\n",
    "plt.title('Descriptive Statistics (Starters + Bench)')\n",
    "plt.ylabel('Score',fontsize=15)\n",
    "plt.xlabel('Position', fontsize=15)\n",
    "plt.show()"
   ]
  },
  {
   "cell_type": "markdown",
   "metadata": {},
   "source": [
    "As seen, QB>RB>WRandTE in both dataframes. However, as expected, TE avoids last place in only the starters dataframe. Bench player WRs are much more capable than Bench TEs. I was very surprised that they even scored higher than WR in any of the tables. This can be explained as there are a few very high level TEs at the top, and only one TE is drafted on a team, so the elite players of this position are depleted more slowly. However, there is a giant cliff after these elite players (also why people do not draft TE for flex postion)."
   ]
  },
  {
   "cell_type": "markdown",
   "metadata": {},
   "source": [
    "Another observation is that the median is consistently below the average in both figures. This suggests that the draft is top heavy. In the starter dataset, there is a larger gap between 75% and the median than in the bench dataset which is further evidence of the distribution. "
   ]
  },
  {
   "cell_type": "markdown",
   "metadata": {},
   "source": [
    "Finally, it was expected that QB would finish at the top and TE would be near the bottom. However, I am surprised that WR is not second on the list. From my experience, WRs have appeared to score more points. However, the actual dataframe values in addition to the slop of the graph reveals that RB and WR are almost identical. QB scores the most. TE offers some big points potential but only if you get one of the top ones."
   ]
  },
  {
   "cell_type": "markdown",
   "metadata": {},
   "source": [
    "Now that we know some about general scoring distribution of each position let's examine the draft sequencing\n",
    "##### Commented code datasets are retrieved and combined into one large dataframe"
   ]
  },
  {
   "cell_type": "code",
   "execution_count": 86,
   "metadata": {},
   "outputs": [
    {
     "name": "stdout",
     "output_type": "stream",
     "text": [
      "length of files\n",
      "25200\n",
      "length of dataframe \n",
      " 25200\n"
     ]
    },
    {
     "data": {
      "text/html": [
       "<div>\n",
       "<style scoped>\n",
       "    .dataframe tbody tr th:only-of-type {\n",
       "        vertical-align: middle;\n",
       "    }\n",
       "\n",
       "    .dataframe tbody tr th {\n",
       "        vertical-align: top;\n",
       "    }\n",
       "\n",
       "    .dataframe thead th {\n",
       "        text-align: right;\n",
       "    }\n",
       "</style>\n",
       "<table border=\"1\" class=\"dataframe\">\n",
       "  <thead>\n",
       "    <tr style=\"text-align: right;\">\n",
       "      <th></th>\n",
       "      <th>Pick_1</th>\n",
       "      <th>Pick_2</th>\n",
       "      <th>Pick_3</th>\n",
       "      <th>Pick_4</th>\n",
       "      <th>Pick_5</th>\n",
       "      <th>Pick_6</th>\n",
       "      <th>Pick_7</th>\n",
       "      <th>TotalScore</th>\n",
       "    </tr>\n",
       "  </thead>\n",
       "  <tbody>\n",
       "    <tr>\n",
       "      <th>4682</th>\n",
       "      <td>RB</td>\n",
       "      <td>WR</td>\n",
       "      <td>RB</td>\n",
       "      <td>RB</td>\n",
       "      <td>TE</td>\n",
       "      <td>WR</td>\n",
       "      <td>QB</td>\n",
       "      <td>2051.7</td>\n",
       "    </tr>\n",
       "    <tr>\n",
       "      <th>4586</th>\n",
       "      <td>RB</td>\n",
       "      <td>WR</td>\n",
       "      <td>RB</td>\n",
       "      <td>RB</td>\n",
       "      <td>TE</td>\n",
       "      <td>WR</td>\n",
       "      <td>QB</td>\n",
       "      <td>2051.7</td>\n",
       "    </tr>\n",
       "    <tr>\n",
       "      <th>4562</th>\n",
       "      <td>RB</td>\n",
       "      <td>WR</td>\n",
       "      <td>RB</td>\n",
       "      <td>RB</td>\n",
       "      <td>TE</td>\n",
       "      <td>WR</td>\n",
       "      <td>QB</td>\n",
       "      <td>2051.7</td>\n",
       "    </tr>\n",
       "    <tr>\n",
       "      <th>4706</th>\n",
       "      <td>RB</td>\n",
       "      <td>WR</td>\n",
       "      <td>RB</td>\n",
       "      <td>RB</td>\n",
       "      <td>TE</td>\n",
       "      <td>WR</td>\n",
       "      <td>QB</td>\n",
       "      <td>2051.7</td>\n",
       "    </tr>\n",
       "    <tr>\n",
       "      <th>4826</th>\n",
       "      <td>RB</td>\n",
       "      <td>TE</td>\n",
       "      <td>RB</td>\n",
       "      <td>RB</td>\n",
       "      <td>WR</td>\n",
       "      <td>WR</td>\n",
       "      <td>QB</td>\n",
       "      <td>2021.9</td>\n",
       "    </tr>\n",
       "    <tr>\n",
       "      <th>...</th>\n",
       "      <td>...</td>\n",
       "      <td>...</td>\n",
       "      <td>...</td>\n",
       "      <td>...</td>\n",
       "      <td>...</td>\n",
       "      <td>...</td>\n",
       "      <td>...</td>\n",
       "      <td>...</td>\n",
       "    </tr>\n",
       "    <tr>\n",
       "      <th>133</th>\n",
       "      <td>RB</td>\n",
       "      <td>WR</td>\n",
       "      <td>RB</td>\n",
       "      <td>QB</td>\n",
       "      <td>WR</td>\n",
       "      <td>RB</td>\n",
       "      <td>TE</td>\n",
       "      <td>823.9</td>\n",
       "    </tr>\n",
       "    <tr>\n",
       "      <th>853</th>\n",
       "      <td>RB</td>\n",
       "      <td>WR</td>\n",
       "      <td>RB</td>\n",
       "      <td>QB</td>\n",
       "      <td>WR</td>\n",
       "      <td>RB</td>\n",
       "      <td>TE</td>\n",
       "      <td>823.9</td>\n",
       "    </tr>\n",
       "    <tr>\n",
       "      <th>973</th>\n",
       "      <td>RB</td>\n",
       "      <td>WR</td>\n",
       "      <td>RB</td>\n",
       "      <td>QB</td>\n",
       "      <td>WR</td>\n",
       "      <td>RB</td>\n",
       "      <td>TE</td>\n",
       "      <td>823.9</td>\n",
       "    </tr>\n",
       "    <tr>\n",
       "      <th>4700</th>\n",
       "      <td>RB</td>\n",
       "      <td>WR</td>\n",
       "      <td>RB</td>\n",
       "      <td>QB</td>\n",
       "      <td>WR</td>\n",
       "      <td>RB</td>\n",
       "      <td>TE</td>\n",
       "      <td>823.9</td>\n",
       "    </tr>\n",
       "    <tr>\n",
       "      <th>4580</th>\n",
       "      <td>RB</td>\n",
       "      <td>WR</td>\n",
       "      <td>RB</td>\n",
       "      <td>QB</td>\n",
       "      <td>WR</td>\n",
       "      <td>RB</td>\n",
       "      <td>TE</td>\n",
       "      <td>823.9</td>\n",
       "    </tr>\n",
       "  </tbody>\n",
       "</table>\n",
       "<p>25200 rows × 8 columns</p>\n",
       "</div>"
      ],
      "text/plain": [
       "     Pick_1 Pick_2 Pick_3 Pick_4 Pick_5 Pick_6 Pick_7  TotalScore\n",
       "4682     RB     WR     RB     RB     TE     WR     QB      2051.7\n",
       "4586     RB     WR     RB     RB     TE     WR     QB      2051.7\n",
       "4562     RB     WR     RB     RB     TE     WR     QB      2051.7\n",
       "4706     RB     WR     RB     RB     TE     WR     QB      2051.7\n",
       "4826     RB     TE     RB     RB     WR     WR     QB      2021.9\n",
       "...     ...    ...    ...    ...    ...    ...    ...         ...\n",
       "133      RB     WR     RB     QB     WR     RB     TE       823.9\n",
       "853      RB     WR     RB     QB     WR     RB     TE       823.9\n",
       "973      RB     WR     RB     QB     WR     RB     TE       823.9\n",
       "4700     RB     WR     RB     QB     WR     RB     TE       823.9\n",
       "4580     RB     WR     RB     QB     WR     RB     TE       823.9\n",
       "\n",
       "[25200 rows x 8 columns]"
      ]
     },
     "execution_count": 86,
     "metadata": {},
     "output_type": "execute_result"
    }
   ],
   "source": [
    "#results from commented code that have been uploaded\n",
    "Simulated2018 = pd.read_csv(r'Simulated2018')\n",
    "Simulated2019 = pd.read_csv(r'Simulated2019')\n",
    "Simulated2020 = pd.read_csv(r'Simulated2020')\n",
    "Simulated2021 = pd.read_csv(r'Simulated2021')\n",
    "Simulated2022 = pd.read_csv(r'Simulated2022')\n",
    "print('length of files')\n",
    "print(len(Simulated2018)+len(Simulated2019)+len(Simulated2020)+len(Simulated2021)+len(Simulated2022))\n",
    "#create dataframe housing all years\n",
    "L = [Simulated2018,Simulated2019,Simulated2020,Simulated2021,Simulated2022]\n",
    "SimulatedAll = pd.concat(L)\n",
    "print('length of dataframe','\\n',len(SimulatedAll))\n",
    "SimulatedAll.drop(columns = 'Unnamed: 0',inplace = True)\n",
    "SimulatedAll = SimulatedAll.sort_values('TotalScore', ascending = False)\n",
    "SimulatedAll\n"
   ]
  },
  {
   "cell_type": "markdown",
   "metadata": {},
   "source": [
    "From an initial glance, it looks like QB may be best saved for a later pick. TE probably should not be saved for the last pick but should not be taken too early either. RB,WR,RB,RB,TE,WR,QB yields the best results. Note that the repeat values are either a flex position shuffling around or a different year."
   ]
  },
  {
   "cell_type": "markdown",
   "metadata": {},
   "source": [
    "In order to determine the effect of each position in each draft spot, one can utilize regression. Because the data is categorial, we use \"one hot encoding\" by converting each scenario into a binary. This allows the machine to understand what RB means."
   ]
  },
  {
   "cell_type": "code",
   "execution_count": 87,
   "metadata": {},
   "outputs": [
    {
     "name": "stdout",
     "output_type": "stream",
     "text": [
      "separated data into x and y\n",
      "\n",
      "\n",
      "     Pick_1 Pick_2 Pick_3 Pick_4 Pick_5 Pick_6 Pick_7\n",
      "4682     RB     WR     RB     RB     TE     WR     QB\n",
      "4586     RB     WR     RB     RB     TE     WR     QB\n",
      "4562     RB     WR     RB     RB     TE     WR     QB\n",
      "4706     RB     WR     RB     RB     TE     WR     QB\n",
      "4826     RB     TE     RB     RB     WR     WR     QB\n",
      "...     ...    ...    ...    ...    ...    ...    ...\n",
      "133      RB     WR     RB     QB     WR     RB     TE\n",
      "853      RB     WR     RB     QB     WR     RB     TE\n",
      "973      RB     WR     RB     QB     WR     RB     TE\n",
      "4700     RB     WR     RB     QB     WR     RB     TE\n",
      "4580     RB     WR     RB     QB     WR     RB     TE\n",
      "\n",
      "[25200 rows x 7 columns]\n",
      "4682    2051.7\n",
      "4586    2051.7\n",
      "4562    2051.7\n",
      "4706    2051.7\n",
      "4826    2021.9\n",
      "         ...  \n",
      "133      823.9\n",
      "853      823.9\n",
      "973      823.9\n",
      "4700     823.9\n",
      "4580     823.9\n",
      "Name: TotalScore, Length: 25200, dtype: float64\n",
      "\n",
      "\n",
      " new columns\n",
      "\n",
      "Index(['Pick_1_QB', 'Pick_1_RB', 'Pick_1_TE', 'Pick_1_WR', 'Pick_2_QB',\n",
      "       'Pick_2_RB', 'Pick_2_TE', 'Pick_2_WR', 'Pick_3_QB', 'Pick_3_RB',\n",
      "       'Pick_3_TE', 'Pick_3_WR', 'Pick_4_QB', 'Pick_4_RB', 'Pick_4_TE',\n",
      "       'Pick_4_WR', 'Pick_5_QB', 'Pick_5_RB', 'Pick_5_TE', 'Pick_5_WR',\n",
      "       'Pick_6_QB', 'Pick_6_RB', 'Pick_6_TE', 'Pick_6_WR', 'Pick_7_QB',\n",
      "       'Pick_7_RB', 'Pick_7_TE', 'Pick_7_WR'],\n",
      "      dtype='object')\n"
     ]
    }
   ],
   "source": [
    "Y = SimulatedAll['TotalScore']\n",
    "X = SimulatedAll.drop('TotalScore',axis = 1)\n",
    "print('separated data into x and y\\n\\n')\n",
    "print(X,Y,sep = '\\n')\n",
    "print('\\n\\n new columns\\n')\n",
    "X = pd.get_dummies(data=X)\n",
    "print(X.columns)"
   ]
  },
  {
   "cell_type": "markdown",
   "metadata": {},
   "source": [
    "Now we split the data into training and testing so we can more accurately estimate the effectiveness of our model. Failure to do this would reward the model for fitting to random patterns in the dataset. Note that if there is not predictive power then maybe draft postion sequence does not matter."
   ]
  },
  {
   "cell_type": "code",
   "execution_count": 88,
   "metadata": {},
   "outputs": [
    {
     "name": "stdout",
     "output_type": "stream",
     "text": [
      "(18900, 28)\n",
      "(6300, 28)\n",
      "(25200,)\n"
     ]
    }
   ],
   "source": [
    "import sklearn.model_selection \n",
    "X_train, X_test, Y_train, Y_test = sklearn.model_selection.train_test_split(X, Y,shuffle = True, test_size=0.25,train_size=.75, random_state=421)\n",
    "print(X_train.shape)\n",
    "print(X_test.shape)\n",
    "print(Y.shape)"
   ]
  },
  {
   "cell_type": "markdown",
   "metadata": {},
   "source": [
    "##### Here is the model which uses our train and test data. Note that the coefficients are scaled so as to make more legible."
   ]
  },
  {
   "cell_type": "code",
   "execution_count": 89,
   "metadata": {},
   "outputs": [
    {
     "name": "stdout",
     "output_type": "stream",
     "text": [
      "intercept\n",
      "-8063534649422367.0\n",
      "\n",
      "coefficients\n",
      "\n",
      "[ 1.69441301e+15  2.60214175e+15  2.80657435e+15  2.60214175e+15\n",
      " -1.01524438e+15 -1.07515643e+14  9.69169634e+13 -1.07515643e+14\n",
      "  2.07279312e+15  2.98052185e+15  3.18495446e+15  2.98052185e+15\n",
      " -4.88072569e+14  4.19656164e+14  6.24088770e+14  4.19656164e+14\n",
      " -2.65538388e+15 -1.74765514e+15 -1.54322254e+15 -1.74765514e+15\n",
      " -5.53092385e+12  9.02197809e+14  1.10663042e+15  9.02197809e+14\n",
      "  2.80975526e+15  3.71748399e+15  3.92191660e+15  3.71748399e+15]\n",
      "\n",
      "\n",
      "\n",
      "Finally we have each position at each spot in the draft and their predicted effects on the points scored by a fantasy player\n",
      "<class 'pandas.core.frame.DataFrame'>\n"
     ]
    },
    {
     "data": {
      "text/html": [
       "<div>\n",
       "<style scoped>\n",
       "    .dataframe tbody tr th:only-of-type {\n",
       "        vertical-align: middle;\n",
       "    }\n",
       "\n",
       "    .dataframe tbody tr th {\n",
       "        vertical-align: top;\n",
       "    }\n",
       "\n",
       "    .dataframe thead th {\n",
       "        text-align: right;\n",
       "    }\n",
       "</style>\n",
       "<table border=\"1\" class=\"dataframe\">\n",
       "  <thead>\n",
       "    <tr style=\"text-align: right;\">\n",
       "      <th></th>\n",
       "      <th>coefficients</th>\n",
       "      <th>Pick/Position</th>\n",
       "    </tr>\n",
       "  </thead>\n",
       "  <tbody>\n",
       "    <tr>\n",
       "      <th>0</th>\n",
       "      <td>-26.553839</td>\n",
       "      <td>Pick_5_QB</td>\n",
       "    </tr>\n",
       "    <tr>\n",
       "      <th>1</th>\n",
       "      <td>-17.476551</td>\n",
       "      <td>Pick_5_RB</td>\n",
       "    </tr>\n",
       "    <tr>\n",
       "      <th>2</th>\n",
       "      <td>-17.476551</td>\n",
       "      <td>Pick_5_WR</td>\n",
       "    </tr>\n",
       "    <tr>\n",
       "      <th>3</th>\n",
       "      <td>-15.432225</td>\n",
       "      <td>Pick_5_TE</td>\n",
       "    </tr>\n",
       "    <tr>\n",
       "      <th>4</th>\n",
       "      <td>-10.152444</td>\n",
       "      <td>Pick_2_QB</td>\n",
       "    </tr>\n",
       "    <tr>\n",
       "      <th>5</th>\n",
       "      <td>-4.880726</td>\n",
       "      <td>Pick_4_QB</td>\n",
       "    </tr>\n",
       "    <tr>\n",
       "      <th>6</th>\n",
       "      <td>-1.075156</td>\n",
       "      <td>Pick_2_WR</td>\n",
       "    </tr>\n",
       "    <tr>\n",
       "      <th>7</th>\n",
       "      <td>-1.075156</td>\n",
       "      <td>Pick_2_RB</td>\n",
       "    </tr>\n",
       "    <tr>\n",
       "      <th>8</th>\n",
       "      <td>-0.055309</td>\n",
       "      <td>Pick_6_QB</td>\n",
       "    </tr>\n",
       "    <tr>\n",
       "      <th>9</th>\n",
       "      <td>0.969170</td>\n",
       "      <td>Pick_2_TE</td>\n",
       "    </tr>\n",
       "    <tr>\n",
       "      <th>10</th>\n",
       "      <td>4.196562</td>\n",
       "      <td>Pick_4_RB</td>\n",
       "    </tr>\n",
       "    <tr>\n",
       "      <th>11</th>\n",
       "      <td>4.196562</td>\n",
       "      <td>Pick_4_WR</td>\n",
       "    </tr>\n",
       "    <tr>\n",
       "      <th>12</th>\n",
       "      <td>6.240888</td>\n",
       "      <td>Pick_4_TE</td>\n",
       "    </tr>\n",
       "    <tr>\n",
       "      <th>13</th>\n",
       "      <td>9.021978</td>\n",
       "      <td>Pick_6_RB</td>\n",
       "    </tr>\n",
       "    <tr>\n",
       "      <th>14</th>\n",
       "      <td>9.021978</td>\n",
       "      <td>Pick_6_WR</td>\n",
       "    </tr>\n",
       "    <tr>\n",
       "      <th>15</th>\n",
       "      <td>11.066304</td>\n",
       "      <td>Pick_6_TE</td>\n",
       "    </tr>\n",
       "    <tr>\n",
       "      <th>16</th>\n",
       "      <td>16.944130</td>\n",
       "      <td>Pick_1_QB</td>\n",
       "    </tr>\n",
       "    <tr>\n",
       "      <th>17</th>\n",
       "      <td>20.727931</td>\n",
       "      <td>Pick_3_QB</td>\n",
       "    </tr>\n",
       "    <tr>\n",
       "      <th>18</th>\n",
       "      <td>26.021417</td>\n",
       "      <td>Pick_1_RB</td>\n",
       "    </tr>\n",
       "    <tr>\n",
       "      <th>19</th>\n",
       "      <td>26.021417</td>\n",
       "      <td>Pick_1_WR</td>\n",
       "    </tr>\n",
       "    <tr>\n",
       "      <th>20</th>\n",
       "      <td>28.065744</td>\n",
       "      <td>Pick_1_TE</td>\n",
       "    </tr>\n",
       "    <tr>\n",
       "      <th>21</th>\n",
       "      <td>28.097553</td>\n",
       "      <td>Pick_7_QB</td>\n",
       "    </tr>\n",
       "    <tr>\n",
       "      <th>22</th>\n",
       "      <td>29.805219</td>\n",
       "      <td>Pick_3_RB</td>\n",
       "    </tr>\n",
       "    <tr>\n",
       "      <th>23</th>\n",
       "      <td>29.805219</td>\n",
       "      <td>Pick_3_WR</td>\n",
       "    </tr>\n",
       "    <tr>\n",
       "      <th>24</th>\n",
       "      <td>31.849545</td>\n",
       "      <td>Pick_3_TE</td>\n",
       "    </tr>\n",
       "    <tr>\n",
       "      <th>25</th>\n",
       "      <td>37.174840</td>\n",
       "      <td>Pick_7_RB</td>\n",
       "    </tr>\n",
       "    <tr>\n",
       "      <th>26</th>\n",
       "      <td>37.174840</td>\n",
       "      <td>Pick_7_WR</td>\n",
       "    </tr>\n",
       "    <tr>\n",
       "      <th>27</th>\n",
       "      <td>39.219166</td>\n",
       "      <td>Pick_7_TE</td>\n",
       "    </tr>\n",
       "  </tbody>\n",
       "</table>\n",
       "</div>"
      ],
      "text/plain": [
       "    coefficients Pick/Position\n",
       "0     -26.553839     Pick_5_QB\n",
       "1     -17.476551     Pick_5_RB\n",
       "2     -17.476551     Pick_5_WR\n",
       "3     -15.432225     Pick_5_TE\n",
       "4     -10.152444     Pick_2_QB\n",
       "5      -4.880726     Pick_4_QB\n",
       "6      -1.075156     Pick_2_WR\n",
       "7      -1.075156     Pick_2_RB\n",
       "8      -0.055309     Pick_6_QB\n",
       "9       0.969170     Pick_2_TE\n",
       "10      4.196562     Pick_4_RB\n",
       "11      4.196562     Pick_4_WR\n",
       "12      6.240888     Pick_4_TE\n",
       "13      9.021978     Pick_6_RB\n",
       "14      9.021978     Pick_6_WR\n",
       "15     11.066304     Pick_6_TE\n",
       "16     16.944130     Pick_1_QB\n",
       "17     20.727931     Pick_3_QB\n",
       "18     26.021417     Pick_1_RB\n",
       "19     26.021417     Pick_1_WR\n",
       "20     28.065744     Pick_1_TE\n",
       "21     28.097553     Pick_7_QB\n",
       "22     29.805219     Pick_3_RB\n",
       "23     29.805219     Pick_3_WR\n",
       "24     31.849545     Pick_3_TE\n",
       "25     37.174840     Pick_7_RB\n",
       "26     37.174840     Pick_7_WR\n",
       "27     39.219166     Pick_7_TE"
      ]
     },
     "execution_count": 89,
     "metadata": {},
     "output_type": "execute_result"
    }
   ],
   "source": [
    "import sklearn.linear_model\n",
    "model = sklearn.linear_model.LinearRegression()\n",
    "model.fit(X_train,Y_train)\n",
    "coef = model.coef_\n",
    "print('intercept')\n",
    "print(model.intercept_)\n",
    "print('\\ncoefficients\\n')\n",
    "print(coef)\n",
    "print('\\n\\n\\nFinally we have each position at each spot in the draft and their predicted effects on the points scored by a fantasy player')\n",
    "ModelDF = pd.DataFrame(X.columns,coef,columns = ['Pick/Position'])\n",
    "ModelDF.index.name='coefficients'\n",
    "ModelDF = ModelDF.sort_index()\n",
    "ModelDF = ModelDF.reset_index()\n",
    "#scale\n",
    "ModelDF['coefficients']= ModelDF.coefficients / 10**14\n",
    "print(type(ModelDF))\n",
    "ModelDF\n"
   ]
  },
  {
   "cell_type": "code",
   "execution_count": 90,
   "metadata": {},
   "outputs": [
    {
     "data": {
      "image/png": "[encoded data removed]",
      "text/plain": [
       "<Figure size 1296x648 with 1 Axes>"
      ]
     },
     "metadata": {
      "needs_background": "light"
     },
     "output_type": "display_data"
    }
   ],
   "source": [
    "ModelDF.plot.bar(x='Pick/Position',y = 'coefficients',figsize=(18,9),fontsize = 15)\n",
    "plt.title('Effects of Position and Spot')\n",
    "plt.ylabel('Affect on Points Scored',fontsize=15)\n",
    "plt.xlabel('Pick_Position', fontsize=15)\n",
    "plt.show()"
   ]
  },
  {
   "cell_type": "markdown",
   "metadata": {},
   "source": [
    "The results are sporadic and vary greatly when I adjust the random state in the regression model. Therefore, it's difficult to complete any analysis. Ulitmately the model is not very good. For example, every single position in pick five is strongly negative. The low R^2 value at the bottom confirms it. I did notice through most of my random state changes that TE at pick three often remained high. This variable may have one of the stronger relationships with score. Another item that could be worth measuring is the average impact of a draft spot (as opposed to position). This might indicate that unexpectedly high scoring players are drafted here. One simple measure may be finding the average spot of the first 14 lowest values in the list of coefficients and the average of the highest... seen below."
   ]
  },
  {
   "cell_type": "code",
   "execution_count": 91,
   "metadata": {},
   "outputs": [
    {
     "name": "stdout",
     "output_type": "stream",
     "text": [
      "average draft position of 14 lowest values in coefficients\n",
      "3.8461538461538463\n",
      "\n",
      " average draft position of 14 highest values in coefficients\n",
      "4.133333333333334\n"
     ]
    }
   ],
   "source": [
    "\n",
    "ModelDF['Spot'] = ModelDF['Pick/Position'].str.extract(\"(\\d+)\").astype(int)\n",
    "print('average draft position of 14 lowest values in coefficients')\n",
    "print(ModelDF['Spot'].iloc[:13].mean())\n",
    "print('\\n average draft position of 14 highest values in coefficients')\n",
    "print(ModelDF['Spot'].iloc[13:].mean())"
   ]
  },
  {
   "cell_type": "markdown",
   "metadata": {},
   "source": [
    "##### Now we plot our predicted values on our test data with the actual results and find the R2"
   ]
  },
  {
   "cell_type": "code",
   "execution_count": 92,
   "metadata": {},
   "outputs": [
    {
     "data": {
      "text/plain": [
       "[Text(0.5, 1.0, 'Model Correlation With True Values')]"
      ]
     },
     "execution_count": 92,
     "metadata": {},
     "output_type": "execute_result"
    },
    {
     "data": {
      "image/png": "[encoded data removed]",
      "text/plain": [
       "<Figure size 432x288 with 1 Axes>"
      ]
     },
     "metadata": {
      "needs_background": "light"
     },
     "output_type": "display_data"
    }
   ],
   "source": [
    "import seaborn as sns\n",
    "#get predictions\n",
    "prediction = model.predict(X_test)\n",
    "df = pd.DataFrame(prediction,Y_test)\n",
    "df.columns = ['Actual Value']\n",
    "df.index.name = 'Predicted Values'\n",
    "\n",
    "#compare predictions to actual values\n",
    "sns.regplot(x='Actual Value',y=df.index, data = df, line_kws = {'color': 'b'}).set(title='Model Correlation With True Values')"
   ]
  },
  {
   "cell_type": "code",
   "execution_count": 93,
   "metadata": {},
   "outputs": [
    {
     "data": {
      "text/plain": [
       "0.10007600611538392"
      ]
     },
     "execution_count": 93,
     "metadata": {},
     "output_type": "execute_result"
    }
   ],
   "source": [
    "#R squared\n",
    "model.score(X_test,Y_test)"
   ]
  },
  {
   "cell_type": "markdown",
   "metadata": {
    "collapsed": true
   },
   "source": [
    "The model is clearly not a strong one. However, at least the model is better than a blind guess as demonstrated from the positively sloped line in the graphic. It also appears that the results may be most disparate in the middle; the ends of the range show dots closer to the line. Therefore, the model might be slightly more reliable when it predicts an extreme score.\n",
    "One shortcoming of the model is that it does not take (to my knowledge) any interaction terms into account. A fuller model should be created that includes, for example, the effects of drafting 3 RBs in a row. In a future project, it would also be worth taking a closer look at which draft spots make or break a player... which draft spots are the most difficult or important to get right. I also would like to see if players drafing at a certain position relative to his/her peers (first pick vs 6th pick vs 12th) effects the results. Finally, measuring the value of a certain round pick could be useful since people can trade draft spots. For example, I would like to know if trading my 1st pick for someone's second and fourth is a net gain or loss in points."
   ]
  },
  {
   "cell_type": "code",
   "execution_count": null,
   "metadata": {
    "collapsed": true
   },
   "outputs": [],
   "source": []
  }
 ],
 "metadata": {
  "kernelspec": {
   "display_name": "Python 3.8",
   "language": "python",
   "name": "python38"
  },
  "language_info": {
   "codemirror_mode": {
    "name": "ipython",
    "version": 3
   },
   "file_extension": ".py",
   "mimetype": "text/x-python",
   "name": "python",
   "nbconvert_exporter": "python",
   "pygments_lexer": "ipython3",
   "version": "3.8.7"
  }
 },
 "nbformat": 4,
 "nbformat_minor": 2
}
